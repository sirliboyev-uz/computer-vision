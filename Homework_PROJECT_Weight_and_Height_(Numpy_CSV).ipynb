{
  "nbformat": 4,
  "nbformat_minor": 0,
  "metadata": {
    "colab": {
      "provenance": [],
      "include_colab_link": true
    },
    "kernelspec": {
      "name": "python3",
      "display_name": "Python 3"
    },
    "language_info": {
      "name": "python"
    }
  },
  "cells": [
    {
      "cell_type": "markdown",
      "metadata": {
        "id": "view-in-github",
        "colab_type": "text"
      },
      "source": [
        "<a href=\"https://colab.research.google.com/github/sirliboyev-uz/computer-vision/blob/main/Homework_PROJECT_Weight_and_Height_(Numpy_CSV).ipynb\" target=\"_parent\"><img src=\"https://colab.research.google.com/assets/colab-badge.svg\" alt=\"Open In Colab\"/></a>"
      ]
    },
    {
      "cell_type": "code",
      "execution_count": null,
      "metadata": {
        "colab": {
          "base_uri": "https://localhost:8080/"
        },
        "id": "LIVepBanEkhW",
        "outputId": "99b0ecf5-30f1-4ec7-bd36-5dadd98f7631"
      },
      "outputs": [
        {
          "output_type": "stream",
          "name": "stdout",
          "text": [
            "--2023-07-06 05:03:52--  https://raw.githubusercontent.com/Naxalov/matplotlib/master/scatter/weight-height.csv\n",
            "Resolving raw.githubusercontent.com (raw.githubusercontent.com)... 185.199.108.133, 185.199.109.133, 185.199.110.133, ...\n",
            "Connecting to raw.githubusercontent.com (raw.githubusercontent.com)|185.199.108.133|:443... connected.\n",
            "HTTP request sent, awaiting response... 200 OK\n",
            "Length: 428120 (418K) [text/plain]\n",
            "Saving to: ‘weight-height.csv’\n",
            "\n",
            "weight-height.csv   100%[===================>] 418.09K  --.-KB/s    in 0.02s   \n",
            "\n",
            "2023-07-06 05:03:52 (17.8 MB/s) - ‘weight-height.csv’ saved [428120/428120]\n",
            "\n"
          ]
        }
      ],
      "source": [
        "!wget https://raw.githubusercontent.com/Naxalov/matplotlib/master/scatter/weight-height.csv"
      ]
    },
    {
      "cell_type": "code",
      "source": [
        "# import library\n",
        "import csv\n",
        "import matplotlib.pyplot as plt\n",
        "import numpy as np"
      ],
      "metadata": {
        "id": "wTO7a0dqUiq2"
      },
      "execution_count": null,
      "outputs": []
    },
    {
      "cell_type": "markdown",
      "source": [
        "#Method #0"
      ],
      "metadata": {
        "id": "7zhPDsbWXP36"
      }
    },
    {
      "cell_type": "markdown",
      "source": [
        "# IMPORT DATA"
      ],
      "metadata": {
        "id": "2BISCeTFEyGr"
      }
    },
    {
      "cell_type": "code",
      "source": [
        "gender = []\n",
        "height = []\n",
        "weight = []"
      ],
      "metadata": {
        "id": "3egH11EnErcg"
      },
      "execution_count": null,
      "outputs": []
    },
    {
      "cell_type": "code",
      "source": [
        "def read_csv_data(file_path):\n",
        "    \"\"\"\n",
        "    Read csv file\n",
        "    Args:\n",
        "        file_path(str): file path\n",
        "    Returns:\n",
        "        list: data split row\n",
        "    \"\"\"\n",
        "\n",
        "    return"
      ],
      "metadata": {
        "id": "jhJHEHHXUads"
      },
      "execution_count": null,
      "outputs": []
    },
    {
      "cell_type": "code",
      "source": [
        "data = read_csv_data('weight-height.csv')"
      ],
      "metadata": {
        "id": "g9q1R5eQUeLT"
      },
      "execution_count": null,
      "outputs": []
    },
    {
      "cell_type": "code",
      "source": [
        "print(data[1])"
      ],
      "metadata": {
        "colab": {
          "base_uri": "https://localhost:8080/"
        },
        "id": "VbDuGgRoFZaJ",
        "outputId": "b0e19d41-b8b5-4aa0-c49d-1b447b0c6774"
      },
      "execution_count": null,
      "outputs": [
        {
          "output_type": "stream",
          "name": "stdout",
          "text": [
            "['Male', '73.847017017515', '241.893563180437']\n"
          ]
        }
      ]
    },
    {
      "cell_type": "code",
      "source": [
        "def get_data(data):\n",
        "    \"\"\"\n",
        "    Get data from list.\n",
        "    Gender: Change Male to 0 and Female to 1\n",
        "    Weight: Place the column in the Kg view given in Pound (1 kg = 2,205 pound).\n",
        "    Height: Place the column on the list in the cm view given in inches (2.54 cm = 1 inch).\n",
        "    Args:\n",
        "        data(list): data split row\n",
        "    Returns:\n",
        "        array: gender, weight and height\n",
        "\n",
        "    \"\"\"\n",
        "    gender = []\n",
        "    weight = []\n",
        "    height = []\n",
        "\n",
        "\n",
        "\n",
        "\n",
        "\n",
        "\n",
        "\n",
        "    return gender,weight,height"
      ],
      "metadata": {
        "id": "kDaM7XAXUreX"
      },
      "execution_count": null,
      "outputs": []
    },
    {
      "cell_type": "code",
      "source": [
        "data = get_data(data[1:]) #get_data(data[1:10]+data[-10:])"
      ],
      "metadata": {
        "id": "oDiwjB8aUtp6"
      },
      "execution_count": null,
      "outputs": []
    },
    {
      "cell_type": "code",
      "source": [
        "data.shape"
      ],
      "metadata": {
        "id": "s7JkOtwQMAU0"
      },
      "execution_count": null,
      "outputs": []
    },
    {
      "cell_type": "code",
      "source": [
        "plt.scatter(weight,height,c=gender)\n",
        "plt.show()"
      ],
      "metadata": {
        "colab": {
          "base_uri": "https://localhost:8080/",
          "height": 265
        },
        "id": "zNgZDfKVVdI0",
        "outputId": "abdf5e65-5727-498d-f54f-64ddef28cc3b"
      },
      "execution_count": null,
      "outputs": [
        {
          "output_type": "display_data",
          "data": {
            "text/plain": [
              "<Figure size 432x288 with 1 Axes>"
            ],
            "image/png": "[encoded data removed]"
          },
          "metadata": {
            "needs_background": "light"
          }
        }
      ]
    }
  ]
}