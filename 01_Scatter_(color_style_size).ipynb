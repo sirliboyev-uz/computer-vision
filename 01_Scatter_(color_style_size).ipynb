{
  "nbformat": 4,
  "nbformat_minor": 0,
  "metadata": {
    "colab": {
      "provenance": [],
      "toc_visible": true,
      "include_colab_link": true
    },
    "kernelspec": {
      "name": "python3",
      "display_name": "Python 3"
    },
    "language_info": {
      "name": "python"
    }
  },
  "cells": [
    {
      "cell_type": "markdown",
      "metadata": {
        "id": "view-in-github",
        "colab_type": "text"
      },
      "source": [
        "<a href=\"https://colab.research.google.com/github/sirliboyev-uz/computer-vision/blob/main/01_Scatter_(color_style_size).ipynb\" target=\"_parent\"><img src=\"https://colab.research.google.com/assets/colab-badge.svg\" alt=\"Open In Colab\"/></a>"
      ]
    },
    {
      "cell_type": "markdown",
      "metadata": {
        "id": "vcZ4N5DFk4c3"
      },
      "source": [
        "# 1 Scatter (color, style, size)"
      ]
    },
    {
      "cell_type": "code",
      "metadata": {
        "id": "qrdkkwXflQc2"
      },
      "source": [
        "# Adding Maplotlib module\n",
        "import matplotlib.pyplot as plt"
      ],
      "execution_count": 1,
      "outputs": []
    },
    {
      "cell_type": "markdown",
      "metadata": {
        "id": "nTWb5zUBljiR"
      },
      "source": [
        "## 1. Plot one Data (Ma'lumotni tasvirlang)\n",
        "   \n",
        "   <b>Input</b>\n",
        "  <table align=\"left\">\n",
        "  <tr>\n",
        "    <th><font size=\"3\">X</font></th>\n",
        "    <th><font size=\"3\">Y</font></th>\n",
        "  </tr>\n",
        "  <tr>\n",
        "    <td><font size=\"3\">4</font></td>\n",
        "    <td><font size=\"3\">9</font></td>\n",
        "  </tr>\n",
        "  </table>"
      ]
    },
    {
      "cell_type": "code",
      "metadata": {
        "colab": {
          "base_uri": "https://localhost:8080/",
          "height": 430
        },
        "id": "xZURY96Qk8wj",
        "outputId": "0eef786d-215b-4749-b060-630abdccbc8a"
      },
      "source": [
        "def one_point(x,y):\n",
        "  '''\n",
        "  Parameters: x and y axis points;\n",
        "  '''\n",
        "  # Write the code here\n",
        "  plt.scatter(x,y)\n",
        "  plt.show()\n",
        "\n",
        "one_point(4,9)"
      ],
      "execution_count": 2,
      "outputs": [
        {
          "output_type": "display_data",
          "data": {
            "text/plain": [
              "<Figure size 640x480 with 1 Axes>"
            ],
            "image/png": "[encoded data removed]"
          },
          "metadata": {}
        }
      ]
    },
    {
      "cell_type": "markdown",
      "metadata": {
        "id": "aGZmp-zAmDph"
      },
      "source": [
        "## 2. Plot list of Data (Listdagi ma'lumotlarni tasvirlang)\n",
        "\n",
        "   <b>Input</b>\n",
        "  <table align=\"left\">\n",
        "  <tr>\n",
        "    <th><font size=\"3\">X</font></th>\n",
        "    <th><font size=\"3\">Y</font></th>\n",
        "  </tr>\n",
        "  <tr>\n",
        "    <td><font size=\"3\">1</font></td>\n",
        "    <td><font size=\"3\">2</font></td>\n",
        "  </tr>\n",
        "   <tr>\n",
        "    <td><font size=\"3\">2</font></td>\n",
        "    <td><font size=\"3\">4</font></td>\n",
        "  </tr>\n",
        "    <tr>\n",
        "    <td><font size=\"3\">3</font></td>\n",
        "    <td><font size=\"3\">6</font></td>\n",
        "  </tr>\n",
        "      <tr>\n",
        "    <td><font size=\"3\">4</font></td>\n",
        "    <td><font size=\"3\">3</font></td>\n",
        "  </tr>\n",
        "      <tr>\n",
        "    <td><font size=\"3\">10</font></td>\n",
        "    <td><font size=\"3\">7</font></td>\n",
        "  </tr>\n",
        "  </table>"
      ]
    },
    {
      "cell_type": "code",
      "metadata": {
        "colab": {
          "base_uri": "https://localhost:8080/",
          "height": 430
        },
        "id": "k_VOqpI9mEpl",
        "outputId": "b067877f-1f6c-4081-d7cd-7fe2cebca17d"
      },
      "source": [
        "def list_points(x,y):\n",
        "  '''\n",
        "  Parameters: x and y axis points list;\n",
        "  '''\n",
        "  # Write the code here\n",
        "  plt.scatter(x,y)\n",
        "  plt.show()\n",
        "\n",
        "list_points([1,2,3,4,10],[2,4,6,3,7])"
      ],
      "execution_count": 5,
      "outputs": [
        {
          "output_type": "display_data",
          "data": {
            "text/plain": [
              "<Figure size 640x480 with 1 Axes>"
            ],
            "image/png": "[encoded data removed]"
          },
          "metadata": {}
        }
      ]
    },
    {
      "cell_type": "markdown",
      "metadata": {
        "id": "Qa4iOwLdmgCx"
      },
      "source": [
        "## Marker color\n",
        "3. Change the color of points (Nuqtalar rangini o'zgartiring)\n",
        "\n",
        "   <b>Input</b>\n",
        "  <table align=\"left\">\n",
        "  <tr>\n",
        "    <th align=\"center\"><font size=\"3\">X</font></th>\n",
        "    <th align=\"center\"><font size=\"3\">Y</font></th>\n",
        "    <th align=\"center\"><font size=\"3\">Color</font></th>\n",
        "  </tr>\n",
        "  <tr>\n",
        "    <td align=\"center\"><font size=\"3\">1</font></td>\n",
        "    <td align=\"center\"><font size=\"3\">2</font></td>\n",
        "    <td align=\"center\"><font size=\"3\" color='red'>red</font></td>\n",
        "  </tr>\n",
        "  <tr>\n",
        "    <td align=\"center\"><font size=\"3\">2</font></td>\n",
        "    <td align=\"center\"><font size=\"3\">4</font></td>\n",
        "    <td align=\"center\"><font size=\"3\" color='red'>red</font></td>\n",
        "  </tr>\n",
        "  <tr>\n",
        "    <td align=\"center\"><font size=\"3\">3</font></td>\n",
        "    <td align=\"center\"><font size=\"3\">6</font></td>\n",
        "    <td align=\"center\"><font size=\"3\" color='red'>red</font></td>\n",
        "  </tr>\n",
        "  <tr>\n",
        "    <td align=\"center\"><font size=\"3\">4</font></td>\n",
        "    <td align=\"center\"><font size=\"3\">3</font></td>\n",
        "    <td align=\"center\"><font size=\"3\" color='red'>red</font></td>\n",
        "  </tr>\n",
        "  <tr>\n",
        "    <td align=\"center\"><font size=\"3\">10</font></td>\n",
        "    <td align=\"center\"><font size=\"3\">7</font></td>\n",
        "    <td align=\"center\"><font size=\"3\" color='red'>red</font></td>\n",
        "  </tr>\n",
        "  </table>"
      ]
    },
    {
      "cell_type": "code",
      "metadata": {
        "colab": {
          "base_uri": "https://localhost:8080/",
          "height": 430
        },
        "id": "CWSnK8-OmhBt",
        "outputId": "1da669e1-fcd2-4843-c103-3580844e9cc9"
      },
      "source": [
        "def points_color(x,y,color):\n",
        "  '''\n",
        "  Parameters: x and y axis points list;\n",
        "  '''\n",
        "  plt.scatter(x,y, c=color)\n",
        "  plt.show()\n",
        "points_color([1,2,3,4,10],[2,4,6,3,7],'#FF0000')"
      ],
      "execution_count": 9,
      "outputs": [
        {
          "output_type": "display_data",
          "data": {
            "text/plain": [
              "<Figure size 640x480 with 1 Axes>"
            ],
            "image/png": "[encoded data removed]"
          },
          "metadata": {}
        }
      ]
    },
    {
      "cell_type": "markdown",
      "metadata": {
        "id": "kZwfS5YSngZb"
      },
      "source": [
        "## Marker style\n",
        "4. Change the marker style (Markerlar shaklini o'zgartiring)\n",
        "\n",
        "   <b>Input</b>\n",
        "  <table align=\"left\">\n",
        "  <tr>\n",
        "    <th align=\"center\"><font size=\"3\">X</font></th>\n",
        "    <th align=\"center\"><font size=\"3\">Y</font></th>\n",
        "    <th align=\"center\"><font size=\"3\">Color</font></th>\n",
        "    <th align=\"center\"><font size=\"3\">Style</font></th>\n",
        "  </tr>\n",
        "  <tr>\n",
        "    <td align=\"center\"><font size=\"3\">1</font></td>\n",
        "    <td align=\"center\"><font size=\"3\">2</font></td>\n",
        "    <td align=\"center\"><font size=\"3\" color='magenta'>m</font></td>\n",
        "    <td align=\"center\"><font size=\"3\">*</font></td>\n",
        "  </tr>\n",
        "  <tr>\n",
        "    <td align=\"center\"><font size=\"3\">2</font></td>\n",
        "    <td align=\"center\"><font size=\"3\">4</font></td>\n",
        "    <td align=\"center\"><font size=\"3\" color='magenta'>m</font></td>\n",
        "    <td align=\"center\"><font size=\"3\">*</font></td>\n",
        "  </tr>\n",
        "  <tr>\n",
        "    <td align=\"center\"><font size=\"3\">3</font></td>\n",
        "    <td align=\"center\"><font size=\"3\">6</font></td>\n",
        "    <td align=\"center\"><font size=\"3\" color='magenta'>m</font></td>\n",
        "    <td align=\"center\"><font size=\"3\">*</font></td>\n",
        "  </tr>\n",
        "  <tr>\n",
        "    <td align=\"center\"><font size=\"3\">4</font></td>\n",
        "    <td align=\"center\"><font size=\"3\">3</font></td>\n",
        "    <td align=\"center\"><font size=\"3\" color='magenta'>m</font></td>\n",
        "    <td align=\"center\"><font size=\"3\">*</font></td>\n",
        "  </tr>\n",
        "  <tr>\n",
        "    <td align=\"center\"><font size=\"3\">10</font></td>\n",
        "    <td align=\"center\"><font size=\"3\">7</font></td>\n",
        "    <td align=\"center\"><font size=\"3\" color='magenta'>m</font></td>\n",
        "    <td align=\"center\"><font size=\"3\">*</font></td>\n",
        "  </tr>\n",
        "  </table>"
      ]
    },
    {
      "cell_type": "code",
      "metadata": {
        "colab": {
          "base_uri": "https://localhost:8080/",
          "height": 430
        },
        "id": "sfemOeM5nhRY",
        "outputId": "004e75e0-a8e9-431b-9f19-8f6e9a049121"
      },
      "source": [
        "def points_style(x,y,color,style):\n",
        "  '''\n",
        "  Parameters: x and y axis points list;\n",
        "  '''\n",
        "  # Write the code here\n",
        "  plt.scatter(x,y,c=color, marker=style)\n",
        "  plt.show()\n",
        "points_style([1,2,3,4,10],[2,4,6,3,7],'#FF0000', '*')"
      ],
      "execution_count": 12,
      "outputs": [
        {
          "output_type": "display_data",
          "data": {
            "text/plain": [
              "<Figure size 640x480 with 1 Axes>"
            ],
            "image/png": "[encoded data removed]"
          },
          "metadata": {}
        }
      ]
    },
    {
      "cell_type": "markdown",
      "metadata": {
        "id": "80xVyb2BpONT"
      },
      "source": [
        "## Marker size\n",
        "5. Change the size of the points (Nuqtalar hajmini o'zgartiring)\n",
        "\n",
        "   <b>Input</b>\n",
        "  <table align=\"left\">\n",
        "  <tr>\n",
        "    <th align=\"center\"><font size=\"3\">X</font></th>\n",
        "    <th align=\"center\"><font size=\"3\">Y</font></th>\n",
        "    <th align=\"center\"><font size=\"3\">Size</font></th>\n",
        "  </tr>\n",
        "  <tr>\n",
        "    <td align=\"center\"><font size=\"3\">1</font></td>\n",
        "    <td align=\"center\"><font size=\"3\">2</font></td>\n",
        "    <td align=\"center\"><font size=\"3\">100</font></td>\n",
        "  </tr>\n",
        "  <tr>\n",
        "    <td align=\"center\"><font size=\"3\">2</font></td>\n",
        "    <td align=\"center\"><font size=\"3\">4</font></td>\n",
        "    <td align=\"center\"><font size=\"3\">100</font></td>\n",
        "  </tr>\n",
        "  <tr>\n",
        "    <td align=\"center\"><font size=\"3\">3</font></td>\n",
        "    <td align=\"center\"><font size=\"3\">6</font></td>\n",
        "    <td align=\"center\"><font size=\"3\">100</font></td>\n",
        "  </tr>\n",
        "  <tr>\n",
        "    <td align=\"center\"><font size=\"3\">4</font></td>\n",
        "    <td align=\"center\"><font size=\"3\">3</font></td>\n",
        "    <td align=\"center\"><font size=\"3\">100</font></td>\n",
        "  </tr>\n",
        "  <tr>\n",
        "    <td align=\"center\"><font size=\"3\">10</font></td>\n",
        "    <td align=\"center\"><font size=\"3\">7</font></td>\n",
        "    <td align=\"center\"><font size=\"3\">100</font></td>\n",
        "  </tr>\n",
        "  </table>"
      ]
    },
    {
      "cell_type": "code",
      "metadata": {
        "colab": {
          "base_uri": "https://localhost:8080/",
          "height": 430
        },
        "id": "47027sQjoeQM",
        "outputId": "999a5459-1be5-46f4-f822-3ef85f688a3e"
      },
      "source": [
        "def points_size(x,y,size):\n",
        "  '''\n",
        "  Parameters: x and y axis points list;\n",
        "  '''\n",
        "  # Write the code here\n",
        "  plt.scatter(x,y,s=size)\n",
        "  plt.show()\n",
        "points_size([1,2,3,4,10],[2,4,6,3,7], 100)"
      ],
      "execution_count": 15,
      "outputs": [
        {
          "output_type": "display_data",
          "data": {
            "text/plain": [
              "<Figure size 640x480 with 1 Axes>"
            ],
            "image/png": "[encoded data removed]"
          },
          "metadata": {}
        }
      ]
    },
    {
      "cell_type": "markdown",
      "metadata": {
        "id": "vgtJrORspQVy"
      },
      "source": [
        "## List of colors\n",
        "6. Plot different colored points (Turli xil ranglarni belgilang)\n",
        "\n",
        "   Input\n",
        "  <table align=\"left\">\n",
        "  <tr>\n",
        "    <th align=\"center\"><font size=\"3\">X</font></th>\n",
        "    <th align=\"center\"><font size=\"3\">Y</font></th>\n",
        "    <th align=\"center\"><font size=\"3\">Color</font></th>\n",
        "  </tr>\n",
        "  <tr>\n",
        "    <td align=\"center\"><font size=\"3\">1</font></td>\n",
        "    <td align=\"center\"><font size=\"3\">2</font></td>\n",
        "    <td align=\"center\"><font size=\"3\" color='cyan'>c</font></td>\n",
        "  </tr>\n",
        "  <tr>\n",
        "    <td align=\"center\"><font size=\"3\">2</font></td>\n",
        "    <td align=\"center\"><font size=\"3\">4</font></td>\n",
        "    <td align=\"center\"><font size=\"3\" color='magenta'>m</font></td>\n",
        "  </tr>\n",
        "  <tr>\n",
        "    <td align=\"center\"><font size=\"3\">3</font></td>\n",
        "    <td align=\"center\"><font size=\"3\">6</font></td>\n",
        "    <td align=\"center\"><font size=\"3\" color='red'>r</font></td>\n",
        "  </tr>\n",
        "  <tr>\n",
        "    <td align=\"center\"><font size=\"3\">4</font></td>\n",
        "    <td align=\"center\"><font size=\"3\">3</font></td>\n",
        "    <td align=\"center\"><font size=\"3\" color='yellow'>y</font></td>\n",
        "  </tr>\n",
        "  <tr>\n",
        "    <td align=\"center\"><font size=\"3\">10</font></td>\n",
        "    <td align=\"center\"><font size=\"3\">7</font></td>\n",
        "    <td align=\"center\"><font size=\"3\" color='blue'>b</font></td>\n",
        "  </tr>\n",
        "  </table>"
      ]
    },
    {
      "cell_type": "code",
      "metadata": {
        "colab": {
          "base_uri": "https://localhost:8080/",
          "height": 430
        },
        "id": "48gaNv3spRJ1",
        "outputId": "e8a57dc9-85ef-41e2-f58c-772968d06baa"
      },
      "source": [
        "def each_point_color(x,y,color):\n",
        "  '''\n",
        "  Parameters: x and y axis points list;\n",
        "  '''\n",
        "  # Write the code here\n",
        "  plt.scatter(x,y,c=color)\n",
        "  plt.show()\n",
        "x=[1,2,3,4,10]\n",
        "y=[2,4,6,3,7]\n",
        "color=['c','m', 'r', 'y', 'b']\n",
        "each_point_color(x,y,color)"
      ],
      "execution_count": 56,
      "outputs": [
        {
          "output_type": "display_data",
          "data": {
            "text/plain": [
              "<Figure size 640x480 with 1 Axes>"
            ],
            "image/png": "[encoded data removed]"
          },
          "metadata": {}
        }
      ]
    },
    {
      "cell_type": "markdown",
      "metadata": {
        "id": "7K_ZpRErp9eb"
      },
      "source": [
        "## List of marker style\n",
        "7. Plot different styled points (Nuqtalarni turli shaklda tasvirlang)\n",
        "\n",
        "   <b>Input</b>\n",
        "  <table align=\"left\">\n",
        "  <tr>\n",
        "    <th align=\"center\"><font size=\"3\">X</font></th>\n",
        "    <th align=\"center\"><font size=\"3\">Y</font></th>\n",
        "    <th align=\"center\"><font size=\"3\">Color</font></th>\n",
        "    <th align=\"center\"><font size=\"3\">Style</font></th>\n",
        "  </tr>\n",
        "  <tr>\n",
        "    <td align=\"center\"><font size=\"3\">1</font></td>\n",
        "    <td align=\"center\"><font size=\"3\">2</font></td>\n",
        "    <td align=\"center\"><font size=\"3\" color='magenta'>m</font></td>\n",
        "    <td align=\"center\"><font size=\"3\">3</font></td>\n",
        "  </tr>\n",
        "  <tr>\n",
        "    <td align=\"center\"><font size=\"3\">2</font></td>\n",
        "    <td align=\"center\"><font size=\"3\">4</font></td>\n",
        "    <td align=\"center\"><font size=\"3\" color='magenta'>m</font></td>\n",
        "    <td align=\"center\"><font size=\"3\">p</font></td>\n",
        "  </tr>\n",
        "  <tr>\n",
        "    <td align=\"center\"><font size=\"3\">3</font></td>\n",
        "    <td align=\"center\"><font size=\"3\">6</font></td>\n",
        "    <td align=\"center\"><font size=\"3\" color='magenta'>m</font></td>\n",
        "    <td align=\"center\"><font size=\"3\">s</font></td>\n",
        "  </tr>\n",
        "  <tr>\n",
        "    <td align=\"center\"><font size=\"3\">4</font></td>\n",
        "    <td align=\"center\"><font size=\"3\">3</font></td>\n",
        "    <td align=\"center\"><font size=\"3\" color='magenta'>m</font></td>\n",
        "    <td align=\"center\"><font size=\"3\">v</font></td>\n",
        "  </tr>\n",
        "  <tr>\n",
        "    <td align=\"center\"><font size=\"3\">10</font></td>\n",
        "    <td align=\"center\"><font size=\"3\">7</font></td>\n",
        "    <td align=\"center\"><font size=\"3\" color='magenta'>m</font></td>\n",
        "    <td align=\"center\"><font size=\"3\">*</font></td>\n",
        "  </tr>\n",
        "\n",
        "  </table>"
      ]
    },
    {
      "cell_type": "code",
      "metadata": {
        "colab": {
          "base_uri": "https://localhost:8080/",
          "height": 430
        },
        "id": "QYhaVf2Gp-dJ",
        "outputId": "2155f68a-34b7-4633-aeb8-376a48a31ce1"
      },
      "source": [
        "def each_point_style(x,y,color,style):\n",
        "  '''\n",
        "  Parameters: x and y axis points list;\n",
        "  '''\n",
        "  # Write the code here\n",
        "  for i in range(len(x)):\n",
        "    plt.scatter(x[i], y[i], c=color, marker=style[i])\n",
        "  plt.show()\n",
        "\n",
        "x=[1,2,3,4,10]\n",
        "y=[2,4,6,3,7]\n",
        "color='m'\n",
        "style = ['3','p','s','v','*']\n",
        "each_point_style(x,y,color,style)"
      ],
      "execution_count": 49,
      "outputs": [
        {
          "output_type": "display_data",
          "data": {
            "text/plain": [
              "<Figure size 640x480 with 1 Axes>"
            ],
            "image/png": "[encoded data removed]"
          },
          "metadata": {}
        }
      ]
    },
    {
      "cell_type": "markdown",
      "metadata": {
        "id": "-KH5DGa8sMTR"
      },
      "source": [
        "## Customize style and size\n",
        "8.  Plot points with different style and size (Turli xil o'lchamdagi nuqtalarni tasvirlang)\n",
        "\n",
        "  <b>Input</b>\n",
        "  <table align=\"left\">\n",
        "  <tr>\n",
        "    <th align=\"center\"><font size=\"3\">X</font></th>\n",
        "    <th align=\"center\"><font size=\"3\">Y</font></th>\n",
        "    <th align=\"center\"><font size=\"3\">Color</font></th>\n",
        "    <th align=\"center\"><font size=\"3\">Style</font></th>\n",
        "    <th align=\"center\"><font size=\"3\">Size</font></th>\n",
        "  </tr>\n",
        "  <tr>\n",
        "    <td align=\"center\"><font size=\"3\">1</font></td>\n",
        "    <td align=\"center\"><font size=\"3\">2</font></td>\n",
        "    <td align=\"center\"><font size=\"3\" color='magenta'>m</font></td>\n",
        "    <td align=\"center\"><font size=\"3\">3</font></td>\n",
        "    <td align=\"center\"><font size=\"3\">100</font></td>\n",
        "  </tr>\n",
        "  <tr>\n",
        "    <td align=\"center\"><font size=\"3\">2</font></td>\n",
        "    <td align=\"center\"><font size=\"3\">4</font></td>\n",
        "    <td align=\"center\"><font size=\"3\" color='magenta'>m</font></td>\n",
        "    <td align=\"center\"><font size=\"3\">p</font></td>\n",
        "    <td align=\"center\"><font size=\"3\">150</font></td>\n",
        "  </tr>\n",
        "  <tr>\n",
        "    <td align=\"center\"><font size=\"3\">3</font></td>\n",
        "    <td align=\"center\"><font size=\"3\">6</font></td>\n",
        "    <td align=\"center\"><font size=\"3\" color='magenta'>m</font></td>\n",
        "    <td align=\"center\"><font size=\"3\">s</font></td>\n",
        "    <td align=\"center\"><font size=\"3\">120</font></td>\n",
        "  </tr>\n",
        "  <tr>\n",
        "    <td align=\"center\"><font size=\"3\">4</font></td>\n",
        "    <td align=\"center\"><font size=\"3\">3</font></td>\n",
        "    <td align=\"center\"><font size=\"3\" color='magenta'>m</font></td>\n",
        "    <td align=\"center\"><font size=\"3\">v</font></td>\n",
        "    <td align=\"center\"><font size=\"3\">110</font></td>\n",
        "  </tr>\n",
        "  <tr>\n",
        "    <td align=\"center\"><font size=\"3\">10</font></td>\n",
        "    <td align=\"center\"><font size=\"3\">7</font></td>\n",
        "    <td align=\"center\"><font size=\"3\" color='magenta'>m</font></td>\n",
        "    <td align=\"center\"><font size=\"3\">*</font></td>\n",
        "    <td align=\"center\"><font size=\"3\">90</font></td>\n",
        "  </tr>\n",
        "\n",
        "  </table>"
      ]
    },
    {
      "cell_type": "code",
      "metadata": {
        "colab": {
          "base_uri": "https://localhost:8080/",
          "height": 430
        },
        "id": "zHACRfqbsNlr",
        "outputId": "b5e83d43-a4b8-433d-ee42-4ce6a67af808"
      },
      "source": [
        "def each_point_style_and_size(x,y,color,style,size):\n",
        "  '''\n",
        "  Parameters: x and y axis points list;\n",
        "  '''\n",
        "  # Write the code here\n",
        "  for i in range(len(x)):\n",
        "    plt.scatter(x[i],y[i],c=color, marker=style[i], s=size[i])\n",
        "  plt.show()\n",
        "x=[1,2,3,4,10]\n",
        "y=[2,4,6,3,7]\n",
        "color='m'\n",
        "style = ['3','p','s','v','*']\n",
        "size = [100,150,120,110,90]\n",
        "each_point_style_and_size(x,y,color,style, size)"
      ],
      "execution_count": 50,
      "outputs": [
        {
          "output_type": "display_data",
          "data": {
            "text/plain": [
              "<Figure size 640x480 with 1 Axes>"
            ],
            "image/png": "[encoded data removed]"
          },
          "metadata": {}
        }
      ]
    },
    {
      "cell_type": "markdown",
      "metadata": {
        "id": "M4fj3JiJtZrm"
      },
      "source": [
        "## Customize of color, style and size\n",
        "9.  Plot points with different color, style, and size (Turli xil o'lcham, rang va shakldagi nuqtalarni tasvirlang)\n",
        "\n",
        "   **Input**\n",
        "  <table align=\"left\">\n",
        "  <tr>\n",
        "    <th align=\"center\"><font size=\"3\">X</font></th>\n",
        "    <th align=\"center\"><font size=\"3\">Y</font></th>\n",
        "    <th align=\"center\"><font size=\"3\">Color</font></th>\n",
        "    <th align=\"center\"><font size=\"3\">Style</font></th>\n",
        "    <th align=\"center\"><font size=\"3\">Size</font></th>\n",
        "  </tr>\n",
        "  <tr>\n",
        "    <td align=\"center\"><font size=\"3\">1</font></td>\n",
        "    <td align=\"center\"><font size=\"3\">2</font></td>\n",
        "    <td align=\"center\"><font size=\"3\" color='blue'>b</font></td>\n",
        "    <td align=\"center\"><font size=\"3\">3</font></td>\n",
        "    <td align=\"center\"><font size=\"3\">100</font></td>\n",
        "  </tr>\n",
        "  <tr>\n",
        "    <td align=\"center\"><font size=\"3\">2</font></td>\n",
        "    <td align=\"center\"><font size=\"3\">4</font></td>\n",
        "    <td align=\"center\"><font size=\"3\" color='yellow'>y</font></td>\n",
        "    <td align=\"center\"><font size=\"3\">p</font></td>\n",
        "    <td align=\"center\"><font size=\"3\">150</font></td>\n",
        "  </tr>\n",
        "  <tr>\n",
        "    <td align=\"center\"><font size=\"3\">3</font></td>\n",
        "    <td align=\"center\"><font size=\"3\">6</font></td>\n",
        "    <td align=\"center\"><font size=\"3\" color='green'>g</font></td>\n",
        "    <td align=\"center\"><font size=\"3\">s</font></td>\n",
        "    <td align=\"center\"><font size=\"3\">120</font></td>\n",
        "  </tr>\n",
        "  <tr>\n",
        "    <td align=\"center\"><font size=\"3\">4</font></td>\n",
        "    <td align=\"center\"><font size=\"3\">3</font></td>\n",
        "    <td align=\"center\"><font size=\"3\" color='red'>r</font></td>\n",
        "    <td align=\"center\"><font size=\"3\">v</font></td>\n",
        "    <td align=\"center\"><font size=\"3\">110</font></td>\n",
        "  </tr>\n",
        "  <tr>\n",
        "    <td align=\"center\"><font size=\"3\">10</font></td>\n",
        "    <td align=\"center\"><font size=\"3\">7</font></td>\n",
        "    <td align=\"center\"><font size=\"3\" color='magenta'>m</font></td>\n",
        "    <td align=\"center\"><font size=\"3\">*</font></td>\n",
        "    <td align=\"center\"><font size=\"3\">90</font></td>\n",
        "  </tr>\n",
        "    \n",
        "  </tr>\n",
        "  </table>"
      ]
    },
    {
      "cell_type": "code",
      "metadata": {
        "colab": {
          "base_uri": "https://localhost:8080/",
          "height": 430
        },
        "id": "435B2ofCtafL",
        "outputId": "9efb642e-ad8c-4c59-f156-a3b1759f6cc8"
      },
      "source": [
        "def each_point_style_size_color(x,y,color,style,size):\n",
        "  '''\n",
        "  Parameters: x and y axis points list;\n",
        "  '''\n",
        "  # Write the code here\n",
        "  for i in range(len(x)):\n",
        "     plt.scatter(x[i],y[i],c=color[i], marker=style[i], s=size[i])\n",
        "  plt.show()\n",
        "x=[1,2,3,4,10]\n",
        "y=[2,4,6,3,7]\n",
        "color=['b','y', 'g', 'r', 'm']\n",
        "style = ['3','p','s','v','*']\n",
        "size = [100,150,120,110,90]\n",
        "each_point_style_size_color(x,y,color,style, size)"
      ],
      "execution_count": 55,
      "outputs": [
        {
          "output_type": "display_data",
          "data": {
            "text/plain": [
              "<Figure size 640x480 with 1 Axes>"
            ],
            "image/png": "[encoded data removed]"
          },
          "metadata": {}
        }
      ]
    }
  ]
}